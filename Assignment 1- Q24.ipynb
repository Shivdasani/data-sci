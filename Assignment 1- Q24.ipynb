{
 "cells": [
  {
   "cell_type": "code",
   "execution_count": 1,
   "id": "08abba5d",
   "metadata": {},
   "outputs": [],
   "source": [
    "import pandas as pd\n",
    "import numpy as np\n",
    "import matplotlib.pyplot as plt\n",
    "import scipy.stats as stats\n",
    "from scipy.stats import kurtosis\n",
    "from scipy.stats import skew\n",
    "import seaborn as sns\n",
    "from scipy import stats\n",
    "from scipy.stats import norm\n",
    "%matplotlib inline"
   ]
  },
  {
   "cell_type": "code",
   "execution_count": 2,
   "id": "4fcff982",
   "metadata": {},
   "outputs": [
    {
     "name": "stdout",
     "output_type": "stream",
     "text": [
      "\n",
      "-------------Standard Error-------\n",
      " 21.213203435596427\n",
      "\n",
      "-------------T_Score-------\n",
      " -0.4714045207910317\n"
     ]
    }
   ],
   "source": [
    "pop_mean = 270\n",
    "sample_size = 18\n",
    "sample_mean = 260\n",
    "sample_sd = 90\n",
    "standard_error = sample_sd/np.sqrt(sample_size)\n",
    "t_score = (sample_mean -pop_mean)/standard_error\n",
    "print('\\n-------------Standard Error-------\\n',standard_error)\n",
    "print('\\n-------------T_Score-------\\n',t_score)"
   ]
  },
  {
   "cell_type": "code",
   "execution_count": 3,
   "id": "db4c22ad",
   "metadata": {},
   "outputs": [
    {
     "name": "stdout",
     "output_type": "stream",
     "text": [
      "\n",
      "-------------Critical Value-------\n",
      " 18.644853626951473\n"
     ]
    }
   ],
   "source": [
    "df = sample_size - 1\n",
    "alpha = 0.05\n",
    "critical_value = norm.ppf(1.0 - alpha,df)\n",
    "print('\\n-------------Critical Value-------\\n',critical_value)"
   ]
  },
  {
   "cell_type": "code",
   "execution_count": 4,
   "id": "99b8ea98",
   "metadata": {},
   "outputs": [
    {
     "name": "stdout",
     "output_type": "stream",
     "text": [
      "\n",
      "-------------Probability Value-------\n",
      " 2.0\n"
     ]
    }
   ],
   "source": [
    "probability = (1-norm.cdf(abs(t_score),df))*2.0\n",
    "print('\\n-------------Probability Value-------\\n',probability)"
   ]
  },
  {
   "cell_type": "code",
   "execution_count": 5,
   "id": "78c3b774",
   "metadata": {},
   "outputs": [
    {
     "name": "stdout",
     "output_type": "stream",
     "text": [
      "Accept null hypothesis that the means are equal.\n"
     ]
    }
   ],
   "source": [
    "if abs(t_score) <= critical_value:\n",
    "\tprint('Accept null hypothesis that the means are equal.')\n",
    "else:\n",
    "\tprint('Reject the null hypothesis that the means are equal.')"
   ]
  },
  {
   "cell_type": "code",
   "execution_count": 6,
   "id": "8da7374c",
   "metadata": {},
   "outputs": [
    {
     "name": "stdout",
     "output_type": "stream",
     "text": [
      "Accept null hypothesis that the means are equal.\n"
     ]
    }
   ],
   "source": [
    "if probability > alpha:\n",
    "\tprint('Accept null hypothesis that the means are equal.')\n",
    "else:\n",
    "\tprint('Reject the null hypothesis that the means are equal.')"
   ]
  },
  {
   "cell_type": "code",
   "execution_count": 7,
   "id": "9d7e6a0d",
   "metadata": {},
   "outputs": [
    {
     "name": "stdout",
     "output_type": "stream",
     "text": [
      "-1.6448536269514729\n",
      "[-0.79782317 -0.97606624  1.60221375  1.41269408 -0.66811646  0.82129858\n",
      " -0.64936895 -0.11057519 -1.96504774  0.55969933 -0.6388848   1.08287851\n",
      "  0.20201385  1.28015613 -0.53090284  0.69889831 -0.92963849 -0.44816024\n",
      "  1.05545157 -0.31698302  0.9756803   0.7885138  -0.46144186 -2.91740132\n",
      " -1.54238947 -0.42339604  0.00878388 -0.53159268  0.36312879 -1.03579945\n",
      "  1.04843193  0.84094606 -0.67242112  0.92516097  0.10873102  1.72416874\n",
      "  0.23599354 -0.98339796  0.76113953  1.9298991   1.39167532  0.74419595\n",
      "  0.13233508 -0.59224573  0.9167366   0.76868015  0.07110829 -0.19159619\n",
      "  1.26062781  0.5301162  -0.46402507 -4.61179663 -0.14903726  1.0600904\n",
      "  0.04456238  1.3412696   0.31444606 -0.10563567  1.75050988  0.03234611\n",
      " -1.71335451 -0.36743128  0.51489232 -0.20638954 -1.57772471  0.17922849\n",
      " -0.31117137 -1.97109937 -2.20443681 -0.08675513  0.00518445 -1.90216644\n",
      " -0.02697419  1.19042528 -0.40068568 -0.22453175 -0.08853746 -1.81057848\n",
      "  1.16517688 -0.53117892  0.31323863 -0.57096567 -0.88997729 -1.72792265\n",
      "  1.50163516  0.71809718  0.59826725 -2.02145621 -0.44215281  1.61280935]\n"
     ]
    }
   ],
   "source": [
    "print(norm.ppf(0.05))\n",
    "print(norm.rvs(size=90))"
   ]
  },
  {
   "cell_type": "code",
   "execution_count": null,
   "id": "abf12277",
   "metadata": {},
   "outputs": [],
   "source": []
  }
 ],
 "metadata": {
  "kernelspec": {
   "display_name": "Python 3 (ipykernel)",
   "language": "python",
   "name": "python3"
  },
  "language_info": {
   "codemirror_mode": {
    "name": "ipython",
    "version": 3
   },
   "file_extension": ".py",
   "mimetype": "text/x-python",
   "name": "python",
   "nbconvert_exporter": "python",
   "pygments_lexer": "ipython3",
   "version": "3.9.7"
  }
 },
 "nbformat": 4,
 "nbformat_minor": 5
}
